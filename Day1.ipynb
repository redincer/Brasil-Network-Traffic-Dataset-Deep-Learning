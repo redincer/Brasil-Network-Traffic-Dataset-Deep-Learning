{
 "cells": [
  {
   "cell_type": "code",
   "execution_count": 1,
   "metadata": {},
   "outputs": [],
   "source": [
    "from scipy.io.arff import loadarff\n",
    "import numpy as np\n",
    "import pandas as pd\n",
    "from sklearn.model_selection import train_test_split\n",
    "from sklearn.ensemble import RandomForestClassifier\n",
    "from sklearn.tree import DecisionTreeClassifier\n",
    "from sklearn.metrics import precision_recall_fscore_support\n",
    "from sklearn.metrics import precision_score\n",
    "from sklearn.preprocessing import LabelEncoder\n",
    "from sklearn.preprocessing import MultiLabelBinarizer"
   ]
  },
  {
   "cell_type": "code",
   "execution_count": 2,
   "metadata": {},
   "outputs": [],
   "source": [
    "fp= '../Dataset/Day1.TCP.arff'\n",
    "raw_data = loadarff(fp)"
   ]
  },
  {
   "cell_type": "code",
   "execution_count": 3,
   "metadata": {},
   "outputs": [
    {
     "data": {
      "text/html": [
       "<div>\n",
       "<style scoped>\n",
       "    .dataframe tbody tr th:only-of-type {\n",
       "        vertical-align: middle;\n",
       "    }\n",
       "\n",
       "    .dataframe tbody tr th {\n",
       "        vertical-align: top;\n",
       "    }\n",
       "\n",
       "    .dataframe thead th {\n",
       "        text-align: right;\n",
       "    }\n",
       "</style>\n",
       "<table border=\"1\" class=\"dataframe\">\n",
       "  <thead>\n",
       "    <tr style=\"text-align: right;\">\n",
       "      <th></th>\n",
       "      <th>1</th>\n",
       "      <th>2</th>\n",
       "      <th>45</th>\n",
       "      <th>59</th>\n",
       "      <th>60</th>\n",
       "      <th>83</th>\n",
       "      <th>86</th>\n",
       "      <th>95</th>\n",
       "      <th>96</th>\n",
       "      <th>113</th>\n",
       "      <th>162</th>\n",
       "      <th>180</th>\n",
       "      <th>249</th>\n",
       "    </tr>\n",
       "  </thead>\n",
       "  <tbody>\n",
       "    <tr>\n",
       "      <th>0</th>\n",
       "      <td>25.0</td>\n",
       "      <td>52373.0</td>\n",
       "      <td>0.0</td>\n",
       "      <td>0.0</td>\n",
       "      <td>1.0</td>\n",
       "      <td>0.0</td>\n",
       "      <td>91.0</td>\n",
       "      <td>0.0</td>\n",
       "      <td>92.0</td>\n",
       "      <td>1.0</td>\n",
       "      <td>40.0</td>\n",
       "      <td>3528.000000</td>\n",
       "      <td>b'MAIL'</td>\n",
       "    </tr>\n",
       "    <tr>\n",
       "      <th>1</th>\n",
       "      <td>25.0</td>\n",
       "      <td>52945.0</td>\n",
       "      <td>0.0</td>\n",
       "      <td>0.0</td>\n",
       "      <td>1.0</td>\n",
       "      <td>0.0</td>\n",
       "      <td>91.0</td>\n",
       "      <td>0.0</td>\n",
       "      <td>92.0</td>\n",
       "      <td>1.0</td>\n",
       "      <td>40.0</td>\n",
       "      <td>3528.000000</td>\n",
       "      <td>b'MAIL'</td>\n",
       "    </tr>\n",
       "    <tr>\n",
       "      <th>2</th>\n",
       "      <td>25.0</td>\n",
       "      <td>53559.0</td>\n",
       "      <td>0.0</td>\n",
       "      <td>0.0</td>\n",
       "      <td>1.0</td>\n",
       "      <td>0.0</td>\n",
       "      <td>91.0</td>\n",
       "      <td>0.0</td>\n",
       "      <td>92.0</td>\n",
       "      <td>1.0</td>\n",
       "      <td>40.0</td>\n",
       "      <td>3528.000000</td>\n",
       "      <td>b'MAIL'</td>\n",
       "    </tr>\n",
       "    <tr>\n",
       "      <th>3</th>\n",
       "      <td>25.0</td>\n",
       "      <td>53803.0</td>\n",
       "      <td>0.0</td>\n",
       "      <td>0.0</td>\n",
       "      <td>1.0</td>\n",
       "      <td>0.0</td>\n",
       "      <td>91.0</td>\n",
       "      <td>0.0</td>\n",
       "      <td>92.0</td>\n",
       "      <td>1.0</td>\n",
       "      <td>40.0</td>\n",
       "      <td>3528.000000</td>\n",
       "      <td>b'MAIL'</td>\n",
       "    </tr>\n",
       "    <tr>\n",
       "      <th>4</th>\n",
       "      <td>25.0</td>\n",
       "      <td>58400.0</td>\n",
       "      <td>1.0</td>\n",
       "      <td>1.0</td>\n",
       "      <td>1.0</td>\n",
       "      <td>35.0</td>\n",
       "      <td>64.0</td>\n",
       "      <td>35.0</td>\n",
       "      <td>65.0</td>\n",
       "      <td>1.0</td>\n",
       "      <td>48.0</td>\n",
       "      <td>1740.500000</td>\n",
       "      <td>b'MAIL'</td>\n",
       "    </tr>\n",
       "    <tr>\n",
       "      <th>...</th>\n",
       "      <td>...</td>\n",
       "      <td>...</td>\n",
       "      <td>...</td>\n",
       "      <td>...</td>\n",
       "      <td>...</td>\n",
       "      <td>...</td>\n",
       "      <td>...</td>\n",
       "      <td>...</td>\n",
       "      <td>...</td>\n",
       "      <td>...</td>\n",
       "      <td>...</td>\n",
       "      <td>...</td>\n",
       "      <td>...</td>\n",
       "    </tr>\n",
       "    <tr>\n",
       "      <th>324272</th>\n",
       "      <td>80.0</td>\n",
       "      <td>1491.0</td>\n",
       "      <td>1.0</td>\n",
       "      <td>1.0</td>\n",
       "      <td>0.0</td>\n",
       "      <td>259.0</td>\n",
       "      <td>0.0</td>\n",
       "      <td>259.0</td>\n",
       "      <td>0.0</td>\n",
       "      <td>2.0</td>\n",
       "      <td>48.0</td>\n",
       "      <td>0.000000</td>\n",
       "      <td>b'WWW'</td>\n",
       "    </tr>\n",
       "    <tr>\n",
       "      <th>324273</th>\n",
       "      <td>80.0</td>\n",
       "      <td>1490.0</td>\n",
       "      <td>1.0</td>\n",
       "      <td>1.0</td>\n",
       "      <td>0.0</td>\n",
       "      <td>263.0</td>\n",
       "      <td>0.0</td>\n",
       "      <td>263.0</td>\n",
       "      <td>0.0</td>\n",
       "      <td>2.0</td>\n",
       "      <td>48.0</td>\n",
       "      <td>0.000000</td>\n",
       "      <td>b'WWW'</td>\n",
       "    </tr>\n",
       "    <tr>\n",
       "      <th>324274</th>\n",
       "      <td>80.0</td>\n",
       "      <td>1489.0</td>\n",
       "      <td>1.0</td>\n",
       "      <td>1.0</td>\n",
       "      <td>0.0</td>\n",
       "      <td>263.0</td>\n",
       "      <td>0.0</td>\n",
       "      <td>263.0</td>\n",
       "      <td>0.0</td>\n",
       "      <td>2.0</td>\n",
       "      <td>48.0</td>\n",
       "      <td>0.000000</td>\n",
       "      <td>b'WWW'</td>\n",
       "    </tr>\n",
       "    <tr>\n",
       "      <th>324275</th>\n",
       "      <td>80.0</td>\n",
       "      <td>1488.0</td>\n",
       "      <td>1.0</td>\n",
       "      <td>1.0</td>\n",
       "      <td>0.0</td>\n",
       "      <td>263.0</td>\n",
       "      <td>0.0</td>\n",
       "      <td>263.0</td>\n",
       "      <td>0.0</td>\n",
       "      <td>2.0</td>\n",
       "      <td>48.0</td>\n",
       "      <td>0.000000</td>\n",
       "      <td>b'WWW'</td>\n",
       "    </tr>\n",
       "    <tr>\n",
       "      <th>324276</th>\n",
       "      <td>20313.0</td>\n",
       "      <td>3108.0</td>\n",
       "      <td>0.0</td>\n",
       "      <td>0.0</td>\n",
       "      <td>0.0</td>\n",
       "      <td>0.0</td>\n",
       "      <td>1459.0</td>\n",
       "      <td>0.0</td>\n",
       "      <td>2920.0</td>\n",
       "      <td>1.0</td>\n",
       "      <td>44.0</td>\n",
       "      <td>704705.333333</td>\n",
       "      <td>b'BULK'</td>\n",
       "    </tr>\n",
       "  </tbody>\n",
       "</table>\n",
       "<p>324277 rows × 13 columns</p>\n",
       "</div>"
      ],
      "text/plain": [
       "              1        2   45   59   60     83      86     95      96  113  \\\n",
       "0          25.0  52373.0  0.0  0.0  1.0    0.0    91.0    0.0    92.0  1.0   \n",
       "1          25.0  52945.0  0.0  0.0  1.0    0.0    91.0    0.0    92.0  1.0   \n",
       "2          25.0  53559.0  0.0  0.0  1.0    0.0    91.0    0.0    92.0  1.0   \n",
       "3          25.0  53803.0  0.0  0.0  1.0    0.0    91.0    0.0    92.0  1.0   \n",
       "4          25.0  58400.0  1.0  1.0  1.0   35.0    64.0   35.0    65.0  1.0   \n",
       "...         ...      ...  ...  ...  ...    ...     ...    ...     ...  ...   \n",
       "324272     80.0   1491.0  1.0  1.0  0.0  259.0     0.0  259.0     0.0  2.0   \n",
       "324273     80.0   1490.0  1.0  1.0  0.0  263.0     0.0  263.0     0.0  2.0   \n",
       "324274     80.0   1489.0  1.0  1.0  0.0  263.0     0.0  263.0     0.0  2.0   \n",
       "324275     80.0   1488.0  1.0  1.0  0.0  263.0     0.0  263.0     0.0  2.0   \n",
       "324276  20313.0   3108.0  0.0  0.0  0.0    0.0  1459.0    0.0  2920.0  1.0   \n",
       "\n",
       "         162            180      249  \n",
       "0       40.0    3528.000000  b'MAIL'  \n",
       "1       40.0    3528.000000  b'MAIL'  \n",
       "2       40.0    3528.000000  b'MAIL'  \n",
       "3       40.0    3528.000000  b'MAIL'  \n",
       "4       48.0    1740.500000  b'MAIL'  \n",
       "...      ...            ...      ...  \n",
       "324272  48.0       0.000000   b'WWW'  \n",
       "324273  48.0       0.000000   b'WWW'  \n",
       "324274  48.0       0.000000   b'WWW'  \n",
       "324275  48.0       0.000000   b'WWW'  \n",
       "324276  44.0  704705.333333  b'BULK'  \n",
       "\n",
       "[324277 rows x 13 columns]"
      ]
     },
     "execution_count": 3,
     "metadata": {},
     "output_type": "execute_result"
    }
   ],
   "source": [
    "df=pd.DataFrame(raw_data[0])\n",
    "df"
   ]
  },
  {
   "cell_type": "code",
   "execution_count": 4,
   "metadata": {},
   "outputs": [
    {
     "name": "stdout",
     "output_type": "stream",
     "text": [
      "For the Dataset:\n",
      " b'WWW'            274977\n",
      "b'MAIL'            28124\n",
      "b'BULK'            12151\n",
      "b'DATABASE'         2794\n",
      "b'P2P'              2085\n",
      "b'SERVICES'         1808\n",
      "b'ATTACK'           1751\n",
      "b'MULTIMEDIA'        496\n",
      "b'INTERACTIVE'        86\n",
      "b'GAMES'               5\n",
      "Name: 249, dtype: int64 \n",
      "\n"
     ]
    }
   ],
   "source": [
    "print(\"For the Dataset:\\n\",df['249'].value_counts(),\"\\n\")"
   ]
  },
  {
   "cell_type": "code",
   "execution_count": 5,
   "metadata": {},
   "outputs": [
    {
     "name": "stdout",
     "output_type": "stream",
     "text": [
      "['1', '2', '45', '59', '60', '83', '86', '95', '96', '113', '162', '180', '249']\n"
     ]
    }
   ],
   "source": [
    "print(list(df.columns))"
   ]
  },
  {
   "cell_type": "code",
   "execution_count": 6,
   "metadata": {},
   "outputs": [],
   "source": [
    "df['249'] = df['249'].replace([b'WWW'],1).replace([b'MAIL'],2).replace([b'BULK'],3).replace(\n",
    "[b'DATABASE'],4).replace([b'P2P'],5).replace([b'SERVICES'],6).replace([b'ATTACK'],7).replace(\n",
    "[b'MULTIMEDIA'],8).replace([b'INTERACTIVE'],9).replace([b'GAMES'],10)"
   ]
  },
  {
   "cell_type": "code",
   "execution_count": 7,
   "metadata": {},
   "outputs": [
    {
     "name": "stdout",
     "output_type": "stream",
     "text": [
      "For the Dataset:\n",
      " 1     274977\n",
      "2      28124\n",
      "3      12151\n",
      "4       2794\n",
      "5       2085\n",
      "6       1808\n",
      "7       1751\n",
      "8        496\n",
      "9         86\n",
      "10         5\n",
      "Name: 249, dtype: int64 \n",
      "\n"
     ]
    }
   ],
   "source": [
    "print(\"For the Dataset:\\n\",df['249'].value_counts(),\"\\n\")"
   ]
  },
  {
   "cell_type": "code",
   "execution_count": 8,
   "metadata": {},
   "outputs": [
    {
     "data": {
      "text/html": [
       "<div>\n",
       "<style scoped>\n",
       "    .dataframe tbody tr th:only-of-type {\n",
       "        vertical-align: middle;\n",
       "    }\n",
       "\n",
       "    .dataframe tbody tr th {\n",
       "        vertical-align: top;\n",
       "    }\n",
       "\n",
       "    .dataframe thead th {\n",
       "        text-align: right;\n",
       "    }\n",
       "</style>\n",
       "<table border=\"1\" class=\"dataframe\">\n",
       "  <thead>\n",
       "    <tr style=\"text-align: right;\">\n",
       "      <th></th>\n",
       "      <th>1</th>\n",
       "      <th>2</th>\n",
       "      <th>45</th>\n",
       "      <th>59</th>\n",
       "      <th>60</th>\n",
       "      <th>83</th>\n",
       "      <th>86</th>\n",
       "      <th>95</th>\n",
       "      <th>96</th>\n",
       "      <th>113</th>\n",
       "      <th>162</th>\n",
       "      <th>180</th>\n",
       "      <th>249</th>\n",
       "    </tr>\n",
       "  </thead>\n",
       "  <tbody>\n",
       "    <tr>\n",
       "      <th>0</th>\n",
       "      <td>25.0</td>\n",
       "      <td>52373.0</td>\n",
       "      <td>0.0</td>\n",
       "      <td>0.0</td>\n",
       "      <td>1.0</td>\n",
       "      <td>0.0</td>\n",
       "      <td>91.0</td>\n",
       "      <td>0.0</td>\n",
       "      <td>92.0</td>\n",
       "      <td>1.0</td>\n",
       "      <td>40.0</td>\n",
       "      <td>3528.000000</td>\n",
       "      <td>2.0</td>\n",
       "    </tr>\n",
       "    <tr>\n",
       "      <th>1</th>\n",
       "      <td>25.0</td>\n",
       "      <td>52945.0</td>\n",
       "      <td>0.0</td>\n",
       "      <td>0.0</td>\n",
       "      <td>1.0</td>\n",
       "      <td>0.0</td>\n",
       "      <td>91.0</td>\n",
       "      <td>0.0</td>\n",
       "      <td>92.0</td>\n",
       "      <td>1.0</td>\n",
       "      <td>40.0</td>\n",
       "      <td>3528.000000</td>\n",
       "      <td>2.0</td>\n",
       "    </tr>\n",
       "    <tr>\n",
       "      <th>2</th>\n",
       "      <td>25.0</td>\n",
       "      <td>53559.0</td>\n",
       "      <td>0.0</td>\n",
       "      <td>0.0</td>\n",
       "      <td>1.0</td>\n",
       "      <td>0.0</td>\n",
       "      <td>91.0</td>\n",
       "      <td>0.0</td>\n",
       "      <td>92.0</td>\n",
       "      <td>1.0</td>\n",
       "      <td>40.0</td>\n",
       "      <td>3528.000000</td>\n",
       "      <td>2.0</td>\n",
       "    </tr>\n",
       "    <tr>\n",
       "      <th>3</th>\n",
       "      <td>25.0</td>\n",
       "      <td>53803.0</td>\n",
       "      <td>0.0</td>\n",
       "      <td>0.0</td>\n",
       "      <td>1.0</td>\n",
       "      <td>0.0</td>\n",
       "      <td>91.0</td>\n",
       "      <td>0.0</td>\n",
       "      <td>92.0</td>\n",
       "      <td>1.0</td>\n",
       "      <td>40.0</td>\n",
       "      <td>3528.000000</td>\n",
       "      <td>2.0</td>\n",
       "    </tr>\n",
       "    <tr>\n",
       "      <th>4</th>\n",
       "      <td>25.0</td>\n",
       "      <td>58400.0</td>\n",
       "      <td>1.0</td>\n",
       "      <td>1.0</td>\n",
       "      <td>1.0</td>\n",
       "      <td>35.0</td>\n",
       "      <td>64.0</td>\n",
       "      <td>35.0</td>\n",
       "      <td>65.0</td>\n",
       "      <td>1.0</td>\n",
       "      <td>48.0</td>\n",
       "      <td>1740.500000</td>\n",
       "      <td>2.0</td>\n",
       "    </tr>\n",
       "    <tr>\n",
       "      <th>...</th>\n",
       "      <td>...</td>\n",
       "      <td>...</td>\n",
       "      <td>...</td>\n",
       "      <td>...</td>\n",
       "      <td>...</td>\n",
       "      <td>...</td>\n",
       "      <td>...</td>\n",
       "      <td>...</td>\n",
       "      <td>...</td>\n",
       "      <td>...</td>\n",
       "      <td>...</td>\n",
       "      <td>...</td>\n",
       "      <td>...</td>\n",
       "    </tr>\n",
       "    <tr>\n",
       "      <th>324272</th>\n",
       "      <td>80.0</td>\n",
       "      <td>1491.0</td>\n",
       "      <td>1.0</td>\n",
       "      <td>1.0</td>\n",
       "      <td>0.0</td>\n",
       "      <td>259.0</td>\n",
       "      <td>0.0</td>\n",
       "      <td>259.0</td>\n",
       "      <td>0.0</td>\n",
       "      <td>2.0</td>\n",
       "      <td>48.0</td>\n",
       "      <td>0.000000</td>\n",
       "      <td>1.0</td>\n",
       "    </tr>\n",
       "    <tr>\n",
       "      <th>324273</th>\n",
       "      <td>80.0</td>\n",
       "      <td>1490.0</td>\n",
       "      <td>1.0</td>\n",
       "      <td>1.0</td>\n",
       "      <td>0.0</td>\n",
       "      <td>263.0</td>\n",
       "      <td>0.0</td>\n",
       "      <td>263.0</td>\n",
       "      <td>0.0</td>\n",
       "      <td>2.0</td>\n",
       "      <td>48.0</td>\n",
       "      <td>0.000000</td>\n",
       "      <td>1.0</td>\n",
       "    </tr>\n",
       "    <tr>\n",
       "      <th>324274</th>\n",
       "      <td>80.0</td>\n",
       "      <td>1489.0</td>\n",
       "      <td>1.0</td>\n",
       "      <td>1.0</td>\n",
       "      <td>0.0</td>\n",
       "      <td>263.0</td>\n",
       "      <td>0.0</td>\n",
       "      <td>263.0</td>\n",
       "      <td>0.0</td>\n",
       "      <td>2.0</td>\n",
       "      <td>48.0</td>\n",
       "      <td>0.000000</td>\n",
       "      <td>1.0</td>\n",
       "    </tr>\n",
       "    <tr>\n",
       "      <th>324275</th>\n",
       "      <td>80.0</td>\n",
       "      <td>1488.0</td>\n",
       "      <td>1.0</td>\n",
       "      <td>1.0</td>\n",
       "      <td>0.0</td>\n",
       "      <td>263.0</td>\n",
       "      <td>0.0</td>\n",
       "      <td>263.0</td>\n",
       "      <td>0.0</td>\n",
       "      <td>2.0</td>\n",
       "      <td>48.0</td>\n",
       "      <td>0.000000</td>\n",
       "      <td>1.0</td>\n",
       "    </tr>\n",
       "    <tr>\n",
       "      <th>324276</th>\n",
       "      <td>20313.0</td>\n",
       "      <td>3108.0</td>\n",
       "      <td>0.0</td>\n",
       "      <td>0.0</td>\n",
       "      <td>0.0</td>\n",
       "      <td>0.0</td>\n",
       "      <td>1459.0</td>\n",
       "      <td>0.0</td>\n",
       "      <td>2920.0</td>\n",
       "      <td>1.0</td>\n",
       "      <td>44.0</td>\n",
       "      <td>704705.333333</td>\n",
       "      <td>3.0</td>\n",
       "    </tr>\n",
       "  </tbody>\n",
       "</table>\n",
       "<p>324267 rows × 13 columns</p>\n",
       "</div>"
      ],
      "text/plain": [
       "              1        2   45   59   60     83      86     95      96  113  \\\n",
       "0          25.0  52373.0  0.0  0.0  1.0    0.0    91.0    0.0    92.0  1.0   \n",
       "1          25.0  52945.0  0.0  0.0  1.0    0.0    91.0    0.0    92.0  1.0   \n",
       "2          25.0  53559.0  0.0  0.0  1.0    0.0    91.0    0.0    92.0  1.0   \n",
       "3          25.0  53803.0  0.0  0.0  1.0    0.0    91.0    0.0    92.0  1.0   \n",
       "4          25.0  58400.0  1.0  1.0  1.0   35.0    64.0   35.0    65.0  1.0   \n",
       "...         ...      ...  ...  ...  ...    ...     ...    ...     ...  ...   \n",
       "324272     80.0   1491.0  1.0  1.0  0.0  259.0     0.0  259.0     0.0  2.0   \n",
       "324273     80.0   1490.0  1.0  1.0  0.0  263.0     0.0  263.0     0.0  2.0   \n",
       "324274     80.0   1489.0  1.0  1.0  0.0  263.0     0.0  263.0     0.0  2.0   \n",
       "324275     80.0   1488.0  1.0  1.0  0.0  263.0     0.0  263.0     0.0  2.0   \n",
       "324276  20313.0   3108.0  0.0  0.0  0.0    0.0  1459.0    0.0  2920.0  1.0   \n",
       "\n",
       "         162            180  249  \n",
       "0       40.0    3528.000000  2.0  \n",
       "1       40.0    3528.000000  2.0  \n",
       "2       40.0    3528.000000  2.0  \n",
       "3       40.0    3528.000000  2.0  \n",
       "4       48.0    1740.500000  2.0  \n",
       "...      ...            ...  ...  \n",
       "324272  48.0       0.000000  1.0  \n",
       "324273  48.0       0.000000  1.0  \n",
       "324274  48.0       0.000000  1.0  \n",
       "324275  48.0       0.000000  1.0  \n",
       "324276  44.0  704705.333333  3.0  \n",
       "\n",
       "[324267 rows x 13 columns]"
      ]
     },
     "execution_count": 8,
     "metadata": {},
     "output_type": "execute_result"
    }
   ],
   "source": [
    "np.any(np.isnan(df))\n",
    "def clean_dataset(df):\n",
    "    assert isinstance(df, pd.DataFrame), \"df needs to be a pd.DataFrame\"\n",
    "    df.dropna(inplace=True)\n",
    "    indices_to_keep = ~df.isin([np.nan, np.inf, -np.inf]).any(1)\n",
    "    return df[indices_to_keep].astype(np.float64)\n",
    "\n",
    "clean_dataset(df)"
   ]
  },
  {
   "cell_type": "code",
   "execution_count": 9,
   "metadata": {},
   "outputs": [
    {
     "data": {
      "text/plain": [
       "False"
      ]
     },
     "execution_count": 9,
     "metadata": {},
     "output_type": "execute_result"
    }
   ],
   "source": [
    "np.any(np.isnan(df))"
   ]
  },
  {
   "cell_type": "code",
   "execution_count": 10,
   "metadata": {},
   "outputs": [],
   "source": [
    "X=df.drop(columns=[\"249\"])\n",
    "y=df[\"249\"]"
   ]
  },
  {
   "cell_type": "code",
   "execution_count": 11,
   "metadata": {},
   "outputs": [],
   "source": [
    "X_train,X_test,y_train,y_test=train_test_split(X,y,test_size=0.2,random_state=42)"
   ]
  },
  {
   "cell_type": "code",
   "execution_count": 12,
   "metadata": {},
   "outputs": [],
   "source": [
    "random_state=1\n",
    "randomForest = RandomForestClassifier(random_state = random_state)\n",
    "decisionTree = DecisionTreeClassifier(random_state = random_state)"
   ]
  },
  {
   "cell_type": "code",
   "execution_count": 13,
   "metadata": {},
   "outputs": [
    {
     "name": "stdout",
     "output_type": "stream",
     "text": [
      "Random Forest fitted\n",
      "Decision Tree fitted\n"
     ]
    }
   ],
   "source": [
    "randomForest.fit(X_train, y_train)\n",
    "print(\"Random Forest fitted\")\n",
    "decisionTree.fit(X_train, y_train)\n",
    "print(\"Decision Tree fitted\")"
   ]
  },
  {
   "cell_type": "code",
   "execution_count": 14,
   "metadata": {},
   "outputs": [],
   "source": [
    "randomForestResult = randomForest.score(X_test, y_test)\n",
    "decisionTreeResult = decisionTree.score(X_test, y_test)"
   ]
  },
  {
   "cell_type": "code",
   "execution_count": 15,
   "metadata": {},
   "outputs": [
    {
     "name": "stdout",
     "output_type": "stream",
     "text": [
      "Random Forest: 1.00\n",
      "Decision Tree: 1.00\n"
     ]
    }
   ],
   "source": [
    "print('Random Forest: {:.2f}'.format(randomForestResult))\n",
    "print('Decision Tree: {:.2f}'.format(decisionTreeResult))"
   ]
  },
  {
   "cell_type": "code",
   "execution_count": 16,
   "metadata": {},
   "outputs": [
    {
     "name": "stdout",
     "output_type": "stream",
     "text": [
      "Accuracy:  0.9974712430998859\n",
      "Micro-averaged precision score: 1.00\n",
      "Macro-averaged precision score: 0.88\n",
      "Per-class precision score: [0.99876337 0.99964814 0.99415449 0.99475524 0.96836983 0.99715909\n",
      " 0.82738095 0.97938144 1.         0.        ]\n"
     ]
    }
   ],
   "source": [
    "from sklearn.metrics import precision_score\n",
    "y_pred = decisionTree.predict(X_test)\n",
    "y_score = decisionTree.score(X_test, y_test)\n",
    "print('Accuracy: ', y_score)\n",
    "\n",
    "# Compute the average precision score\n",
    "from sklearn.metrics import precision_score\n",
    "micro_precision = precision_score(y_pred, y_test, average='micro')\n",
    "print('Micro-averaged precision score: {0:0.2f}'.format(\n",
    "      micro_precision))\n",
    "\n",
    "macro_precision = precision_score(y_pred, y_test, average='macro')\n",
    "print('Macro-averaged precision score: {0:0.2f}'.format(\n",
    "      macro_precision))\n",
    "\n",
    "per_class_precision = precision_score(y_pred, y_test, average=None)\n",
    "print('Per-class precision score:', per_class_precision)"
   ]
  },
  {
   "cell_type": "code",
   "execution_count": 17,
   "metadata": {},
   "outputs": [],
   "source": [
    "from sklearn.metrics import confusion_matrix\n",
    "from sklearn.metrics import precision_score, recall_score, f1_score, accuracy_score\n",
    "from sklearn.pipeline import make_pipeline\n",
    "from sklearn.ensemble import RandomForestClassifier\n",
    "from sklearn.preprocessing import StandardScaler\n",
    "import matplotlib.pyplot as plt"
   ]
  },
  {
   "cell_type": "code",
   "execution_count": 18,
   "metadata": {},
   "outputs": [
    {
     "name": "stdout",
     "output_type": "stream",
     "text": [
      "0.8763638697757392\n"
     ]
    }
   ],
   "source": [
    "print(f1_score(y_test, decisionTree.predict(X_test), average=\"macro\"))"
   ]
  },
  {
   "cell_type": "code",
   "execution_count": 19,
   "metadata": {},
   "outputs": [
    {
     "data": {
      "text/plain": [
       "Pipeline(steps=[('standardscaler', StandardScaler()),\n",
       "                ('randomforestclassifier',\n",
       "                 RandomForestClassifier(max_depth=2, max_features=5,\n",
       "                                        n_estimators=10, random_state=1))])"
      ]
     },
     "execution_count": 19,
     "metadata": {},
     "output_type": "execute_result"
    }
   ],
   "source": [
    "pipeline = make_pipeline(StandardScaler(),\n",
    "RandomForestClassifier(n_estimators=10, max_features=5, max_depth=2, random_state=1))\n",
    "pipeline.fit(X_train, y_train)"
   ]
  },
  {
   "cell_type": "code",
   "execution_count": 20,
   "metadata": {},
   "outputs": [
    {
     "data": {
      "image/png": "[encoded data removed]",
      "text/plain": [
       "<Figure size 540x540 with 1 Axes>"
      ]
     },
     "metadata": {
      "needs_background": "light"
     },
     "output_type": "display_data"
    }
   ],
   "source": [
    "y_pred = pipeline.predict(X_test)\n",
    "conf_matrix = confusion_matrix(y_true=y_test, y_pred=y_pred)\n",
    "fig, ax = plt.subplots(figsize=(7.5, 7.5))\n",
    "ax.matshow(conf_matrix, cmap=plt.cm.Blues, alpha=0.3)\n",
    "for i in range(conf_matrix.shape[0]):\n",
    "    for j in range(conf_matrix.shape[1]):\n",
    "        ax.text(x=j, y=i,s=conf_matrix[i, j], va='center', ha='center', size='xx-large')\n",
    " \n",
    "plt.xlabel('Predictions', fontsize=18)\n",
    "plt.ylabel('Actuals', fontsize=18)\n",
    "plt.title('Confusion Matrix', fontsize=18)\n",
    "plt.show()"
   ]
  },
  {
   "cell_type": "code",
   "execution_count": 21,
   "metadata": {},
   "outputs": [],
   "source": [
    "from sklearn.preprocessing import StandardScaler\n",
    "from sklearn.preprocessing import MultiLabelBinarizer\n",
    "#multilabel_binarizer = MultiLabelBinarizer()\n",
    "#multilabel_binarizer.fit(df)\n",
    "#labels = multilabel_binarizer.classes_"
   ]
  },
  {
   "cell_type": "code",
   "execution_count": 22,
   "metadata": {},
   "outputs": [],
   "source": [
    "from keras.models import Sequential\n",
    "from keras.layers import Dense\n",
    "from keras.layers import LSTM\n",
    "from keras.layers import Dropout\n",
    "from keras.layers import GRU\n",
    "from keras.layers.embeddings import Embedding\n",
    "from keras.preprocessing import sequence\n",
    "from keras.models import Sequential\n",
    "from keras.metrics import CategoricalAccuracy, Precision, Recall\n",
    "from tensorflow.keras.utils import to_categorical\n",
    "import tensorflow as tf\n",
    "import matplotlib.pyplot as plt\n",
    "from sklearn.metrics import accuracy_score\n",
    "from keras.callbacks import History"
   ]
  },
  {
   "cell_type": "code",
   "execution_count": 23,
   "metadata": {},
   "outputs": [
    {
     "name": "stdout",
     "output_type": "stream",
     "text": [
      "Type:  <class 'numpy.ndarray'>\n",
      "Type:  <class 'pandas.core.series.Series'>\n",
      "X train shape:  (259413, 12)\n",
      "X test shape:  (64854, 12)\n",
      "Y train shape:  (259413,)\n"
     ]
    }
   ],
   "source": [
    "X_train=np.array(X_train)\n",
    "print(\"Type: \", type(X_train))\n",
    "print(\"Type: \", type(y_train))\n",
    "print(\"X train shape: \",X_train.shape)\n",
    "print(\"X test shape: \",(X_test.shape))\n",
    "print(\"Y train shape: \",y_train.shape)"
   ]
  },
  {
   "cell_type": "code",
   "execution_count": 27,
   "metadata": {},
   "outputs": [],
   "source": [
    "model = Sequential()\n",
    "model.add(Dense(8,input_dim=12,activation=\"relu\"))\n",
    "model.add(Dense(4, activation='relu'))\n",
    "model.add(Dense(2, activation='relu'))\n",
    "model.add(Dense(1, activation='sigmoid'))\n",
    "model.compile(optimizer='adam', loss='binary_crossentropy', metrics=['acc'])"
   ]
  },
  {
   "cell_type": "code",
   "execution_count": 28,
   "metadata": {},
   "outputs": [
    {
     "name": "stdout",
     "output_type": "stream",
     "text": [
      "Model: \"sequential_1\"\n",
      "_________________________________________________________________\n",
      " Layer (type)                Output Shape              Param #   \n",
      "=================================================================\n",
      " dense_4 (Dense)             (None, 8)                 104       \n",
      "                                                                 \n",
      " dense_5 (Dense)             (None, 4)                 36        \n",
      "                                                                 \n",
      " dense_6 (Dense)             (None, 2)                 10        \n",
      "                                                                 \n",
      " dense_7 (Dense)             (None, 1)                 3         \n",
      "                                                                 \n",
      "=================================================================\n",
      "Total params: 153\n",
      "Trainable params: 153\n",
      "Non-trainable params: 0\n",
      "_________________________________________________________________\n"
     ]
    }
   ],
   "source": [
    "X_train = np.array(X_train)\n",
    "model.summary()"
   ]
  },
  {
   "cell_type": "code",
   "execution_count": 29,
   "metadata": {},
   "outputs": [
    {
     "name": "stdout",
     "output_type": "stream",
     "text": [
      "Epoch 1/10\n",
      "8107/8107 [==============================] - 7s 823us/step - loss: -475546368.0000 - acc: 0.8480\n",
      "Epoch 2/10\n",
      "8107/8107 [==============================] - 7s 868us/step - loss: -7680986624.0000 - acc: 0.8480\n",
      "Epoch 3/10\n",
      "8107/8107 [==============================] - 7s 844us/step - loss: -37368233984.0000 - acc: 0.8480\n",
      "Epoch 4/10\n",
      "8107/8107 [==============================] - 7s 864us/step - loss: -113039187968.0000 - acc: 0.8480\n",
      "Epoch 5/10\n",
      "8107/8107 [==============================] - 7s 831us/step - loss: -265017032704.0000 - acc: 0.8480\n",
      "Epoch 6/10\n",
      "8107/8107 [==============================] - 8s 929us/step - loss: -526932672512.0000 - acc: 0.8480\n",
      "Epoch 7/10\n",
      "8107/8107 [==============================] - 7s 833us/step - loss: -950328492032.0000 - acc: 0.8480\n",
      "Epoch 8/10\n",
      "8107/8107 [==============================] - 7s 830us/step - loss: -1582380089344.0000 - acc: 0.8480\n",
      "Epoch 9/10\n",
      "8107/8107 [==============================] - 7s 855us/step - loss: -2474852220928.0000 - acc: 0.8480\n",
      "Epoch 10/10\n",
      "8107/8107 [==============================] - 7s 858us/step - loss: -3715502964736.0000 - acc: 0.8480\n"
     ]
    },
    {
     "data": {
      "text/plain": [
       "<keras.callbacks.History at 0x1a906c804f0>"
      ]
     },
     "execution_count": 29,
     "metadata": {},
     "output_type": "execute_result"
    }
   ],
   "source": [
    "model.fit(X_train,np.array(y_train),epochs =10 )"
   ]
  },
  {
   "cell_type": "code",
   "execution_count": null,
   "metadata": {},
   "outputs": [],
   "source": []
  }
 ],
 "metadata": {
  "kernelspec": {
   "display_name": "Python 3",
   "language": "python",
   "name": "python3"
  },
  "language_info": {
   "codemirror_mode": {
    "name": "ipython",
    "version": 3
   },
   "file_extension": ".py",
   "mimetype": "text/x-python",
   "name": "python",
   "nbconvert_exporter": "python",
   "pygments_lexer": "ipython3",
   "version": "3.8.3"
  }
 },
 "nbformat": 4,
 "nbformat_minor": 4
}
